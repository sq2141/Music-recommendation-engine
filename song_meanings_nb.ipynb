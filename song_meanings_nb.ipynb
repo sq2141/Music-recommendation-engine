{
 "cells": [
  {
   "cell_type": "markdown",
   "metadata": {},
   "source": [
    "# Meaning-Based Music Recommendation"
   ]
  },
  {
   "cell_type": "markdown",
   "metadata": {},
   "source": [
    "#### Summary:\n",
    "- Use natural language processing for music recommendation\n",
    "- Identify and suggest music with similar meanings as songs entered by the user\n",
    "\n",
    "#### Key Questions:\n",
    "- How do we obtain song 'meanings'?\n",
    "- How do we measure the similarities between songs based on texts related to song 'meanings'?\n",
    "- How do we produce a list of recommendations for a given user?"
   ]
  },
  {
   "cell_type": "markdown",
   "metadata": {},
   "source": [
    "---\n",
    "## Section 1: Gather song lyrics and Songmeanings.com comments/interpretations"
   ]
  },
  {
   "cell_type": "markdown",
   "metadata": {},
   "source": [
    "Songmeanings.com contains <b>1,097,225 song lyrics</b> from <b>110,886 artists</b>, and <b>1,737,493 comments/interpretations</b>. To obtain song lyrics/comments, we need to obtain the URLs to the song lyrics/comments page for ~1 million songs. We will use a small premade website index info file (sm_start_info.xlsx) to build out a list of URLs to the A-Z artist directory pages. From there, we will use BeautifulSoup to webscrape the <b>URLs of all 110,886 artist pages</b>, which in turn we will webscrape to obtain the <b>URLs of all 1,097,225 song pages</b>."
   ]
  },
  {
   "cell_type": "code",
   "execution_count": 1,
   "metadata": {},
   "outputs": [],
   "source": [
    "%matplotlib inline\n",
    "\n",
    "# Imports\n",
    "import numpy as np\n",
    "import pandas as pd\n",
    "import requests\n",
    "import bs4\n",
    "from bs4 import BeautifulSoup\n",
    "from IPython.display import clear_output\n",
    "from time import sleep"
   ]
  },
  {
   "cell_type": "code",
   "execution_count": 2,
   "metadata": {
    "scrolled": false
   },
   "outputs": [
    {
     "data": {
      "text/html": [
       "<div>\n",
       "<style scoped>\n",
       "    .dataframe tbody tr th:only-of-type {\n",
       "        vertical-align: middle;\n",
       "    }\n",
       "\n",
       "    .dataframe tbody tr th {\n",
       "        vertical-align: top;\n",
       "    }\n",
       "\n",
       "    .dataframe thead th {\n",
       "        text-align: right;\n",
       "    }\n",
       "</style>\n",
       "<table border=\"1\" class=\"dataframe\">\n",
       "  <thead>\n",
       "    <tr style=\"text-align: right;\">\n",
       "      <th></th>\n",
       "      <th>letter</th>\n",
       "      <th>pages</th>\n",
       "    </tr>\n",
       "  </thead>\n",
       "  <tbody>\n",
       "    <tr>\n",
       "      <th>0</th>\n",
       "      <td>a</td>\n",
       "      <td>155</td>\n",
       "    </tr>\n",
       "    <tr>\n",
       "      <th>1</th>\n",
       "      <td>b</td>\n",
       "      <td>170</td>\n",
       "    </tr>\n",
       "    <tr>\n",
       "      <th>2</th>\n",
       "      <td>c</td>\n",
       "      <td>153</td>\n",
       "    </tr>\n",
       "    <tr>\n",
       "      <th>3</th>\n",
       "      <td>d</td>\n",
       "      <td>161</td>\n",
       "    </tr>\n",
       "    <tr>\n",
       "      <th>4</th>\n",
       "      <td>e</td>\n",
       "      <td>76</td>\n",
       "    </tr>\n",
       "  </tbody>\n",
       "</table>\n",
       "</div>"
      ],
      "text/plain": [
       "  letter  pages\n",
       "0      a    155\n",
       "1      b    170\n",
       "2      c    153\n",
       "3      d    161\n",
       "4      e     76"
      ]
     },
     "execution_count": 2,
     "metadata": {},
     "output_type": "execute_result"
    }
   ],
   "source": [
    "# Load Songmeanings.com directory info \n",
    "start_info = pd.read_excel('sm_start_info.xlsx')\n",
    "start_info.head()"
   ]
  },
  {
   "cell_type": "code",
   "execution_count": 3,
   "metadata": {
    "scrolled": false
   },
   "outputs": [],
   "source": [
    "# Build list of URLs to access artist directories\n",
    "artist_dir_urls = []\n",
    "for letter, max_page in start_info.values:\n",
    "    for page in np.arange(1,max_page+1):\n",
    "        artist_dir_urls.append('https://songmeanings.com/artist/directory/'+letter+'/?page='+str(page))"
   ]
  },
  {
   "cell_type": "markdown",
   "metadata": {},
   "source": [
    "![](artist_dir_page.png)"
   ]
  },
  {
   "cell_type": "code",
   "execution_count": 4,
   "metadata": {},
   "outputs": [],
   "source": [
    "# Build list of URLs to artist pages \n",
    "SCRAPE_ARTIST_URLS = False # Set to False if scraping is already completed\n",
    "\n",
    "if SCRAPE_ARTIST_URLS == True:\n",
    "    artist_urls = []\n",
    "    for artists_page in artist_dir_urls:\n",
    "        page = requests.get(artists_page)\n",
    "        soup = BeautifulSoup(page.text, 'lxml')\n",
    "        table = soup.find('table', summary='songs table')\n",
    "        table_body = table.find('tbody')\n",
    "        for item in table_body.find_all('a', href=True):\n",
    "            artist_urls.append([(item['title']),(item['href'])])\n",
    "        print ('Scraping artist URLs: '+artists_page)\n",
    "        clear_output(wait=True)\n",
    "        sleep(1)\n",
    "    # Save artist URL list\n",
    "    artist_urls_df = pd.DataFrame(artist_urls)\n",
    "    artist_urls_df.to_csv('artist_urls.csv', index=False, header=False)\n",
    "else:\n",
    "    artist_urls_df = pd.read_csv('artist_urls.csv', header=None)"
   ]
  },
  {
   "cell_type": "code",
   "execution_count": 5,
   "metadata": {},
   "outputs": [
    {
     "data": {
      "text/html": [
       "<div>\n",
       "<style scoped>\n",
       "    .dataframe tbody tr th:only-of-type {\n",
       "        vertical-align: middle;\n",
       "    }\n",
       "\n",
       "    .dataframe tbody tr th {\n",
       "        vertical-align: top;\n",
       "    }\n",
       "\n",
       "    .dataframe thead th {\n",
       "        text-align: right;\n",
       "    }\n",
       "</style>\n",
       "<table border=\"1\" class=\"dataframe\">\n",
       "  <thead>\n",
       "    <tr style=\"text-align: right;\">\n",
       "      <th></th>\n",
       "      <th>0</th>\n",
       "      <th>1</th>\n",
       "    </tr>\n",
       "  </thead>\n",
       "  <tbody>\n",
       "    <tr>\n",
       "      <th>0</th>\n",
       "      <td>A</td>\n",
       "      <td>//songmeanings.com/artist/view/songs/6024/</td>\n",
       "    </tr>\n",
       "    <tr>\n",
       "      <th>1</th>\n",
       "      <td>A B</td>\n",
       "      <td>//songmeanings.com/artist/view/songs/137439043...</td>\n",
       "    </tr>\n",
       "    <tr>\n",
       "      <th>2</th>\n",
       "      <td>A B &amp; The Sea</td>\n",
       "      <td>//songmeanings.com/artist/view/songs/137438996...</td>\n",
       "    </tr>\n",
       "    <tr>\n",
       "      <th>3</th>\n",
       "      <td>A Backward Glance On A Travel Road</td>\n",
       "      <td>//songmeanings.com/artist/view/songs/137439060...</td>\n",
       "    </tr>\n",
       "    <tr>\n",
       "      <th>4</th>\n",
       "      <td>A Balladeer</td>\n",
       "      <td>//songmeanings.com/artist/view/songs/137438972...</td>\n",
       "    </tr>\n",
       "  </tbody>\n",
       "</table>\n",
       "</div>"
      ],
      "text/plain": [
       "                                    0  \\\n",
       "0                                   A   \n",
       "1                                 A B   \n",
       "2                       A B & The Sea   \n",
       "3  A Backward Glance On A Travel Road   \n",
       "4                         A Balladeer   \n",
       "\n",
       "                                                   1  \n",
       "0         //songmeanings.com/artist/view/songs/6024/  \n",
       "1  //songmeanings.com/artist/view/songs/137439043...  \n",
       "2  //songmeanings.com/artist/view/songs/137438996...  \n",
       "3  //songmeanings.com/artist/view/songs/137439060...  \n",
       "4  //songmeanings.com/artist/view/songs/137438972...  "
      ]
     },
     "execution_count": 5,
     "metadata": {},
     "output_type": "execute_result"
    }
   ],
   "source": [
    "artist_urls_df.head()"
   ]
  },
  {
   "cell_type": "markdown",
   "metadata": {},
   "source": [
    "![](artist_page.png)"
   ]
  },
  {
   "cell_type": "code",
   "execution_count": 6,
   "metadata": {
    "scrolled": false
   },
   "outputs": [],
   "source": [
    "# Build list of URLs to song pages \n",
    "SCRAPE_SONG_URLS = False # Set to False if scraping is already completed\n",
    "\n",
    "if SCRAPE_SONG_URLS == True:\n",
    "    # Save checkpoints\n",
    "    checkpoints = np.arange(0,110000,1000)\n",
    "\n",
    "    for count, artist in enumerate(artist_urls_df.values):\n",
    "        page = requests.get('http:'+artist[1])\n",
    "        soup = BeautifulSoup(page.text, 'lxml')\n",
    "        table = soup.find('table', summary='songs table')\n",
    "        if table != None:\n",
    "            table_body = table.find('tbody')\n",
    "            for item in table_body.find_all('tr'):\n",
    "                song_name = item.find_all('a')[0].contents[0]\n",
    "                song_url = item.find_all('a')[0]['href']\n",
    "                num_comments = item.find_all('a')[1].contents[0]\n",
    "                song_urls.append([artist[0], song_name, song_url, num_comments])\n",
    "        print('Scraping song URLs for artist: '+artist[0])\n",
    "        clear_output(wait=True)\n",
    "        sleep(1)\n",
    "\n",
    "        # Save at checkpoint\n",
    "        if count in checkpoints:\n",
    "            song_urls_df = pd.DataFrame(song_urls)\n",
    "            song_urls_df.to_csv('song_urls.csv', index=False, header=False)\n",
    "\n",
    "    song_urls_df = pd.DataFrame(song_urls)\n",
    "    song_urls_df.to_csv('song_urls.csv', index=False, header=False)\n",
    "else:\n",
    "    song_urls_df = pd.read_csv('song_urls.csv', header = None)"
   ]
  },
  {
   "cell_type": "code",
   "execution_count": 7,
   "metadata": {
    "scrolled": true
   },
   "outputs": [
    {
     "data": {
      "text/html": [
       "<div>\n",
       "<style scoped>\n",
       "    .dataframe tbody tr th:only-of-type {\n",
       "        vertical-align: middle;\n",
       "    }\n",
       "\n",
       "    .dataframe tbody tr th {\n",
       "        vertical-align: top;\n",
       "    }\n",
       "\n",
       "    .dataframe thead th {\n",
       "        text-align: right;\n",
       "    }\n",
       "</style>\n",
       "<table border=\"1\" class=\"dataframe\">\n",
       "  <thead>\n",
       "    <tr style=\"text-align: right;\">\n",
       "      <th></th>\n",
       "      <th>0</th>\n",
       "      <th>1</th>\n",
       "      <th>2</th>\n",
       "      <th>3</th>\n",
       "    </tr>\n",
       "  </thead>\n",
       "  <tbody>\n",
       "    <tr>\n",
       "      <th>0</th>\n",
       "      <td>A</td>\n",
       "      <td>\"meditacao\" - (eng: Meditation)</td>\n",
       "      <td>//songmeanings.com/songs/view/91590/</td>\n",
       "      <td>0</td>\n",
       "    </tr>\n",
       "    <tr>\n",
       "      <th>1</th>\n",
       "      <td>A</td>\n",
       "      <td>2nd Coming</td>\n",
       "      <td>//songmeanings.com/songs/view/3530822107859283...</td>\n",
       "      <td>0</td>\n",
       "    </tr>\n",
       "    <tr>\n",
       "      <th>2</th>\n",
       "      <td>A</td>\n",
       "      <td>40</td>\n",
       "      <td>//songmeanings.com/songs/view/3530822107858486...</td>\n",
       "      <td>0</td>\n",
       "    </tr>\n",
       "    <tr>\n",
       "      <th>3</th>\n",
       "      <td>A</td>\n",
       "      <td>6 O'clock On A Tube Stop</td>\n",
       "      <td>//songmeanings.com/songs/view/93649/</td>\n",
       "      <td>1</td>\n",
       "    </tr>\n",
       "    <tr>\n",
       "      <th>4</th>\n",
       "      <td>A</td>\n",
       "      <td>8 Fingers</td>\n",
       "      <td>//songmeanings.com/songs/view/3530822107858486...</td>\n",
       "      <td>2</td>\n",
       "    </tr>\n",
       "  </tbody>\n",
       "</table>\n",
       "</div>"
      ],
      "text/plain": [
       "   0                                1  \\\n",
       "0  A  \"meditacao\" - (eng: Meditation)   \n",
       "1  A                       2nd Coming   \n",
       "2  A                               40   \n",
       "3  A         6 O'clock On A Tube Stop   \n",
       "4  A                        8 Fingers   \n",
       "\n",
       "                                                   2  3  \n",
       "0               //songmeanings.com/songs/view/91590/  0  \n",
       "1  //songmeanings.com/songs/view/3530822107859283...  0  \n",
       "2  //songmeanings.com/songs/view/3530822107858486...  0  \n",
       "3               //songmeanings.com/songs/view/93649/  1  \n",
       "4  //songmeanings.com/songs/view/3530822107858486...  2  "
      ]
     },
     "execution_count": 7,
     "metadata": {},
     "output_type": "execute_result"
    }
   ],
   "source": [
    "song_urls_df.head()"
   ]
  },
  {
   "cell_type": "markdown",
   "metadata": {},
   "source": [
    "![](song_page.png)"
   ]
  },
  {
   "cell_type": "code",
   "execution_count": 8,
   "metadata": {
    "scrolled": false
   },
   "outputs": [],
   "source": [
    "# Functions to extract strings (exclude tagged items) from soup items\n",
    "def extract_str(soup_item):\n",
    "    string = []\n",
    "    if soup_item is not None:\n",
    "        for item in soup_item:\n",
    "            if isinstance(item,bs4.element.NavigableString):\n",
    "                string.append(item)\n",
    "        joined_string = ' '.join(string)\n",
    "        return joined_string\n",
    "\n",
    "def strip_header_literals(string):\n",
    "    if string is not None:\n",
    "        output = string.replace('\\n','',1).replace('\\t','')\n",
    "        return output"
   ]
  },
  {
   "cell_type": "code",
   "execution_count": 9,
   "metadata": {},
   "outputs": [],
   "source": [
    "# Webscrape song lyrics and user comments/interpretations\n",
    "SCRAPE_TEXT = False # Set to False if scraping is already completed\n",
    "\n",
    "if SCRAPE_TEXT == True:    \n",
    "    song_lyrics = []\n",
    "    song_comments = []\n",
    "    song_ID_counter = 1\n",
    "\n",
    "    checkpoints = np.arange(0,len(song_urls_df[song_urls_df[3]>10]),1000)\n",
    "\n",
    "    # Go through song list\n",
    "    for song in song_urls_df.values: \n",
    "        if song[3]>=10: # If song has 10 or more comments\n",
    "\n",
    "            # scrape song page\n",
    "            page = requests.get('http:'+song[2])\n",
    "            soup = BeautifulSoup(page.text, 'lxml')\n",
    "\n",
    "            # lyrics\n",
    "            lyrics_box = soup.find('div', {'class': \"holder lyric-box\"})\n",
    "            lyrics = strip_header_literals(extract_str(lyrics_box))\n",
    "            # save song lyrics (song ID, artist, song name, lyrics)\n",
    "            song_lyrics.append([song_ID_counter, song[0],song[1],lyrics])\n",
    "\n",
    "            #comments\n",
    "            raw_comments = soup.find('ul', {'class': \"comments-list\"})\n",
    "            comments = []\n",
    "            if raw_comments is not None: \n",
    "                for raw_comment_count, raw_comment in enumerate(raw_comments.find_all('li')):\n",
    "                    if raw_comment_count % 2 == 0: # skip odd items, which are replies to comments\n",
    "                        comments.append(strip_header_literals(extract_str((raw_comment.find('div', {'class':'text'})))))\n",
    "                # save song comments (song ID, artist, song name, comment)\n",
    "                for comment in comments:\n",
    "                    song_comments.append([song_ID_counter, song[0],song[1],comment])\n",
    "\n",
    "            # increase song ID counter\n",
    "            song_ID_counter += 1\n",
    "\n",
    "            # Save at checkpoint\n",
    "            if song_ID_counter in checkpoints:\n",
    "                song_lyrics_df = pd.DataFrame(song_lyrics)\n",
    "                song_lyrics_df.to_csv('song_lyrics.csv', index=False, header=False)\n",
    "\n",
    "                song_comments_df = pd.DataFrame(song_comments)\n",
    "                song_comments_df.to_csv('song_comments.csv', index=False, header=False)\n",
    "\n",
    "            # update progress\n",
    "            print ('Scraping ARTIST: '+song[0]+', SONG: '+song[1])\n",
    "            clear_output(wait=True)\n",
    "            sleep(1)\n",
    "\n",
    "    song_lyrics_df = pd.DataFrame(song_lyrics)\n",
    "    song_lyrics_df.to_csv('song_lyrics.csv', index=False, header=False)\n",
    "\n",
    "    song_comments_df = pd.DataFrame(song_comments)\n",
    "    song_comments_df.to_csv('song_comments.csv', index=False, header=False)\n",
    "else: \n",
    "    song_lyrics_df = pd.read_csv('song_lyrics.csv', header = None)\n",
    "    song_comments_df = pd.read_csv('song_comments.csv', header = None)"
   ]
  }
 ],
 "metadata": {
  "kernelspec": {
   "display_name": "Python 3",
   "language": "python",
   "name": "python3"
  },
  "language_info": {
   "codemirror_mode": {
    "name": "ipython",
    "version": 3
   },
   "file_extension": ".py",
   "mimetype": "text/x-python",
   "name": "python",
   "nbconvert_exporter": "python",
   "pygments_lexer": "ipython3",
   "version": "3.6.4"
  }
 },
 "nbformat": 4,
 "nbformat_minor": 2
}
