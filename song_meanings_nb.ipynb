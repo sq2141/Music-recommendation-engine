{
 "cells": [
  {
   "cell_type": "markdown",
   "metadata": {},
   "source": [
    "# Meaning-Based Music Recommendation"
   ]
  },
  {
   "cell_type": "markdown",
   "metadata": {},
   "source": [
    "#### Summary:\n",
    "- Use natural language processing for music recommendation\n",
    "- Identify and suggest music with similar meanings as songs entered by the user\n",
    "\n",
    "#### Key Questions:\n",
    "- How do we obtain song 'meanings'?\n",
    "- How do we measure the similarities between songs based on texts related to song 'meanings'?\n",
    "- How do we produce a list of recommendations for a given user?"
   ]
  },
  {
   "cell_type": "markdown",
   "metadata": {},
   "source": [
    "---\n",
    "## Section 1: Gather song lyrics and Songmeanings.com comments/interpretations"
   ]
  },
  {
   "cell_type": "markdown",
   "metadata": {},
   "source": [
    "Songmeanings.com contains <b>1,097,225 song lyrics</b> from <b>110,886 artists</b>, and <b>1,737,493 comments/interpretations</b>. To obtain song lyrics/comments, we need to obtain the URLs to the song lyrics/comments page for ~1 million songs. We will use a small premade website index info file (sm_start_info.xlsx) to build out a list of URLs to the A-Z artist directory pages. From there, we will use BeautifulSoup to webscrape the <b>URLs of all 110,886 artist pages</b>, which in turn we will webscrape to obtain the <b>URLs of all 1,097,225 song pages</b>."
   ]
  },
  {
   "cell_type": "code",
   "execution_count": 1,
   "metadata": {},
   "outputs": [],
   "source": [
    "%matplotlib inline\n",
    "\n",
    "# Imports\n",
    "import numpy as np\n",
    "import pandas as pd\n",
    "import requests\n",
    "import bs4\n",
    "from bs4 import BeautifulSoup\n",
    "from IPython.display import clear_output\n",
    "from time import sleep\n",
    "from matplotlib import pyplot as plt"
   ]
  },
  {
   "cell_type": "code",
   "execution_count": 2,
   "metadata": {
    "scrolled": true
   },
   "outputs": [
    {
     "data": {
      "text/html": [
       "<div>\n",
       "<style scoped>\n",
       "    .dataframe tbody tr th:only-of-type {\n",
       "        vertical-align: middle;\n",
       "    }\n",
       "\n",
       "    .dataframe tbody tr th {\n",
       "        vertical-align: top;\n",
       "    }\n",
       "\n",
       "    .dataframe thead th {\n",
       "        text-align: right;\n",
       "    }\n",
       "</style>\n",
       "<table border=\"1\" class=\"dataframe\">\n",
       "  <thead>\n",
       "    <tr style=\"text-align: right;\">\n",
       "      <th></th>\n",
       "      <th>letter</th>\n",
       "      <th>pages</th>\n",
       "    </tr>\n",
       "  </thead>\n",
       "  <tbody>\n",
       "    <tr>\n",
       "      <th>0</th>\n",
       "      <td>a</td>\n",
       "      <td>155</td>\n",
       "    </tr>\n",
       "    <tr>\n",
       "      <th>1</th>\n",
       "      <td>b</td>\n",
       "      <td>170</td>\n",
       "    </tr>\n",
       "    <tr>\n",
       "      <th>2</th>\n",
       "      <td>c</td>\n",
       "      <td>153</td>\n",
       "    </tr>\n",
       "    <tr>\n",
       "      <th>3</th>\n",
       "      <td>d</td>\n",
       "      <td>161</td>\n",
       "    </tr>\n",
       "    <tr>\n",
       "      <th>4</th>\n",
       "      <td>e</td>\n",
       "      <td>76</td>\n",
       "    </tr>\n",
       "  </tbody>\n",
       "</table>\n",
       "</div>"
      ],
      "text/plain": [
       "  letter  pages\n",
       "0      a    155\n",
       "1      b    170\n",
       "2      c    153\n",
       "3      d    161\n",
       "4      e     76"
      ]
     },
     "execution_count": 2,
     "metadata": {},
     "output_type": "execute_result"
    }
   ],
   "source": [
    "# Load Songmeanings.com directory info \n",
    "start_info = pd.read_excel('sm_start_info.xlsx')\n",
    "start_info.head()"
   ]
  },
  {
   "cell_type": "code",
   "execution_count": 3,
   "metadata": {
    "scrolled": false
   },
   "outputs": [
    {
     "data": {
      "text/plain": [
       "['https://songmeanings.com/artist/directory/a/?page=1',\n",
       " 'https://songmeanings.com/artist/directory/a/?page=2',\n",
       " 'https://songmeanings.com/artist/directory/a/?page=3',\n",
       " 'https://songmeanings.com/artist/directory/a/?page=4',\n",
       " 'https://songmeanings.com/artist/directory/a/?page=5']"
      ]
     },
     "execution_count": 3,
     "metadata": {},
     "output_type": "execute_result"
    }
   ],
   "source": [
    "# Build list of URLs to access artist directories\n",
    "artist_dir_urls = []\n",
    "for letter, max_page in start_info.values:\n",
    "    for page in np.arange(1,max_page+1):\n",
    "        artist_dir_urls.append('https://songmeanings.com/artist/directory/'+letter+'/?page='+str(page))\n",
    "artist_dir_urls[:5]"
   ]
  },
  {
   "cell_type": "markdown",
   "metadata": {},
   "source": [
    "![](artist_dir_page.png)"
   ]
  },
  {
   "cell_type": "code",
   "execution_count": 4,
   "metadata": {},
   "outputs": [],
   "source": [
    "# Build list of URLs to artist pages \n",
    "SCRAPE_ARTIST_URLS = False # Set to False if scraping is already completed\n",
    "\n",
    "if SCRAPE_ARTIST_URLS == True:\n",
    "    artist_urls = []\n",
    "    for artists_page in artist_dir_urls:\n",
    "        page = requests.get(artists_page)\n",
    "        soup = BeautifulSoup(page.text, 'lxml')\n",
    "        table = soup.find('table', summary='songs table')\n",
    "        table_body = table.find('tbody')\n",
    "        for item in table_body.find_all('a', href=True):\n",
    "            artist_urls.append([(item['title']),(item['href'])])\n",
    "        print ('Scraping artist URLs: '+artists_page)\n",
    "        clear_output(wait=True)\n",
    "        sleep(1)\n",
    "    # Save artist URL list\n",
    "    artist_urls_df = pd.DataFrame(artist_urls)\n",
    "    artist_urls_df.to_csv('artist_urls.csv', index=False, header=False)\n",
    "else:\n",
    "    artist_urls_df = pd.read_csv('artist_urls.csv', header=None)"
   ]
  },
  {
   "cell_type": "code",
   "execution_count": 5,
   "metadata": {},
   "outputs": [
    {
     "data": {
      "text/html": [
       "<div>\n",
       "<style scoped>\n",
       "    .dataframe tbody tr th:only-of-type {\n",
       "        vertical-align: middle;\n",
       "    }\n",
       "\n",
       "    .dataframe tbody tr th {\n",
       "        vertical-align: top;\n",
       "    }\n",
       "\n",
       "    .dataframe thead th {\n",
       "        text-align: right;\n",
       "    }\n",
       "</style>\n",
       "<table border=\"1\" class=\"dataframe\">\n",
       "  <thead>\n",
       "    <tr style=\"text-align: right;\">\n",
       "      <th></th>\n",
       "      <th>Artist</th>\n",
       "      <th>URL</th>\n",
       "    </tr>\n",
       "  </thead>\n",
       "  <tbody>\n",
       "    <tr>\n",
       "      <th>0</th>\n",
       "      <td>A</td>\n",
       "      <td>//songmeanings.com/artist/view/songs/6024/</td>\n",
       "    </tr>\n",
       "    <tr>\n",
       "      <th>1</th>\n",
       "      <td>A B</td>\n",
       "      <td>//songmeanings.com/artist/view/songs/137439043...</td>\n",
       "    </tr>\n",
       "    <tr>\n",
       "      <th>2</th>\n",
       "      <td>A B &amp; The Sea</td>\n",
       "      <td>//songmeanings.com/artist/view/songs/137438996...</td>\n",
       "    </tr>\n",
       "    <tr>\n",
       "      <th>3</th>\n",
       "      <td>A Backward Glance On A Travel Road</td>\n",
       "      <td>//songmeanings.com/artist/view/songs/137439060...</td>\n",
       "    </tr>\n",
       "    <tr>\n",
       "      <th>4</th>\n",
       "      <td>A Balladeer</td>\n",
       "      <td>//songmeanings.com/artist/view/songs/137438972...</td>\n",
       "    </tr>\n",
       "  </tbody>\n",
       "</table>\n",
       "</div>"
      ],
      "text/plain": [
       "                               Artist  \\\n",
       "0                                   A   \n",
       "1                                 A B   \n",
       "2                       A B & The Sea   \n",
       "3  A Backward Glance On A Travel Road   \n",
       "4                         A Balladeer   \n",
       "\n",
       "                                                 URL  \n",
       "0         //songmeanings.com/artist/view/songs/6024/  \n",
       "1  //songmeanings.com/artist/view/songs/137439043...  \n",
       "2  //songmeanings.com/artist/view/songs/137438996...  \n",
       "3  //songmeanings.com/artist/view/songs/137439060...  \n",
       "4  //songmeanings.com/artist/view/songs/137438972...  "
      ]
     },
     "execution_count": 5,
     "metadata": {},
     "output_type": "execute_result"
    }
   ],
   "source": [
    "artist_urls_df.columns = ['Artist','URL']\n",
    "artist_urls_df.head()"
   ]
  },
  {
   "cell_type": "markdown",
   "metadata": {},
   "source": [
    "![](artist_page.png)"
   ]
  },
  {
   "cell_type": "code",
   "execution_count": 6,
   "metadata": {
    "scrolled": false
   },
   "outputs": [],
   "source": [
    "# Build list of URLs to song pages \n",
    "SCRAPE_SONG_URLS = False # Set to False if scraping is already completed\n",
    "\n",
    "if SCRAPE_SONG_URLS == True:\n",
    "    # Save checkpoints\n",
    "    checkpoints = np.arange(0,110000,1000)\n",
    "\n",
    "    for count, artist in enumerate(artist_urls_df.values):\n",
    "        page = requests.get('http:'+artist[1])\n",
    "        soup = BeautifulSoup(page.text, 'lxml')\n",
    "        table = soup.find('table', summary='songs table')\n",
    "        if table != None:\n",
    "            table_body = table.find('tbody')\n",
    "            for item in table_body.find_all('tr'):\n",
    "                song_name = item.find_all('a')[0].contents[0]\n",
    "                song_url = item.find_all('a')[0]['href']\n",
    "                num_comments = item.find_all('a')[1].contents[0]\n",
    "                song_urls.append([artist[0], song_name, song_url, num_comments])\n",
    "        print('Scraping song URLs for artist: '+artist[0])\n",
    "        clear_output(wait=True)\n",
    "        sleep(1)\n",
    "\n",
    "        # Save at checkpoint\n",
    "        if count in checkpoints:\n",
    "            song_urls_df = pd.DataFrame(song_urls)\n",
    "            song_urls_df.to_csv('song_urls.csv', index=False, header=False)\n",
    "\n",
    "    song_urls_df = pd.DataFrame(song_urls)\n",
    "    song_urls_df.to_csv('song_urls.csv', index=False, header=False)\n",
    "else:\n",
    "    song_urls_df = pd.read_csv('song_urls.csv', header = None)"
   ]
  },
  {
   "cell_type": "code",
   "execution_count": 7,
   "metadata": {
    "scrolled": false
   },
   "outputs": [
    {
     "data": {
      "text/html": [
       "<div>\n",
       "<style scoped>\n",
       "    .dataframe tbody tr th:only-of-type {\n",
       "        vertical-align: middle;\n",
       "    }\n",
       "\n",
       "    .dataframe tbody tr th {\n",
       "        vertical-align: top;\n",
       "    }\n",
       "\n",
       "    .dataframe thead th {\n",
       "        text-align: right;\n",
       "    }\n",
       "</style>\n",
       "<table border=\"1\" class=\"dataframe\">\n",
       "  <thead>\n",
       "    <tr style=\"text-align: right;\">\n",
       "      <th></th>\n",
       "      <th>Artist</th>\n",
       "      <th>Song</th>\n",
       "      <th>URL</th>\n",
       "      <th>Number of comments</th>\n",
       "    </tr>\n",
       "  </thead>\n",
       "  <tbody>\n",
       "    <tr>\n",
       "      <th>0</th>\n",
       "      <td>A</td>\n",
       "      <td>\"meditacao\" - (eng: Meditation)</td>\n",
       "      <td>//songmeanings.com/songs/view/91590/</td>\n",
       "      <td>0</td>\n",
       "    </tr>\n",
       "    <tr>\n",
       "      <th>1</th>\n",
       "      <td>A</td>\n",
       "      <td>2nd Coming</td>\n",
       "      <td>//songmeanings.com/songs/view/3530822107859283...</td>\n",
       "      <td>0</td>\n",
       "    </tr>\n",
       "    <tr>\n",
       "      <th>2</th>\n",
       "      <td>A</td>\n",
       "      <td>40</td>\n",
       "      <td>//songmeanings.com/songs/view/3530822107858486...</td>\n",
       "      <td>0</td>\n",
       "    </tr>\n",
       "    <tr>\n",
       "      <th>3</th>\n",
       "      <td>A</td>\n",
       "      <td>6 O'clock On A Tube Stop</td>\n",
       "      <td>//songmeanings.com/songs/view/93649/</td>\n",
       "      <td>1</td>\n",
       "    </tr>\n",
       "    <tr>\n",
       "      <th>4</th>\n",
       "      <td>A</td>\n",
       "      <td>8 Fingers</td>\n",
       "      <td>//songmeanings.com/songs/view/3530822107858486...</td>\n",
       "      <td>2</td>\n",
       "    </tr>\n",
       "  </tbody>\n",
       "</table>\n",
       "</div>"
      ],
      "text/plain": [
       "  Artist                             Song  \\\n",
       "0      A  \"meditacao\" - (eng: Meditation)   \n",
       "1      A                       2nd Coming   \n",
       "2      A                               40   \n",
       "3      A         6 O'clock On A Tube Stop   \n",
       "4      A                        8 Fingers   \n",
       "\n",
       "                                                 URL  Number of comments  \n",
       "0               //songmeanings.com/songs/view/91590/                   0  \n",
       "1  //songmeanings.com/songs/view/3530822107859283...                   0  \n",
       "2  //songmeanings.com/songs/view/3530822107858486...                   0  \n",
       "3               //songmeanings.com/songs/view/93649/                   1  \n",
       "4  //songmeanings.com/songs/view/3530822107858486...                   2  "
      ]
     },
     "execution_count": 7,
     "metadata": {},
     "output_type": "execute_result"
    }
   ],
   "source": [
    "song_urls_df.columns = ['Artist','Song','URL','Number of comments']\n",
    "song_urls_df.head()"
   ]
  },
  {
   "cell_type": "code",
   "execution_count": 8,
   "metadata": {
    "scrolled": true
   },
   "outputs": [
    {
     "data": {
      "text/plain": [
       "226743"
      ]
     },
     "execution_count": 8,
     "metadata": {},
     "output_type": "execute_result"
    }
   ],
   "source": [
    "len(song_urls_df[song_urls_df['Number of comments']>=1])"
   ]
  },
  {
   "cell_type": "markdown",
   "metadata": {},
   "source": [
    "About 20% of songs on Songmeanings.com have at least 1 comment."
   ]
  },
  {
   "cell_type": "code",
   "execution_count": 9,
   "metadata": {
    "scrolled": true
   },
   "outputs": [
    {
     "data": {
      "text/plain": [
       "37648"
      ]
     },
     "execution_count": 9,
     "metadata": {},
     "output_type": "execute_result"
    }
   ],
   "source": [
    "len(song_urls_df[song_urls_df['Number of comments']>=10])"
   ]
  },
  {
   "cell_type": "markdown",
   "metadata": {},
   "source": [
    "About 3% of songs have at least 10 comments."
   ]
  },
  {
   "cell_type": "markdown",
   "metadata": {},
   "source": [
    "For this project, we limit our analysis to songs with at least 10 user comments, resulting in 37647 songs. This allows us to have both lyrics and a good amount of comment data for every song. There is also a practical consideration; scraping 1 million songs would take 555 hours (23 days) assuming a 2 second delay between requests."
   ]
  },
  {
   "cell_type": "markdown",
   "metadata": {},
   "source": [
    "![](song_page.png)"
   ]
  },
  {
   "cell_type": "code",
   "execution_count": 10,
   "metadata": {
    "scrolled": false
   },
   "outputs": [],
   "source": [
    "# Functions to extract strings (exclude tagged items) from soup items\n",
    "def extract_str(soup_item):\n",
    "    string = []\n",
    "    if soup_item is not None:\n",
    "        for item in soup_item:\n",
    "            if isinstance(item,bs4.element.NavigableString):\n",
    "                string.append(item)\n",
    "        joined_string = ' '.join(string)\n",
    "        return joined_string\n",
    "\n",
    "def strip_header_literals(string):\n",
    "    if string is not None:\n",
    "        output = string.replace('\\n','',1).replace('\\t','')\n",
    "        return output"
   ]
  },
  {
   "cell_type": "code",
   "execution_count": 11,
   "metadata": {},
   "outputs": [],
   "source": [
    "# Webscrape song lyrics and user comments/interpretations\n",
    "SCRAPE_TEXT = False # Set to False if scraping is already completed\n",
    "\n",
    "if SCRAPE_TEXT == True:    \n",
    "    song_lyrics = []\n",
    "    song_comments = []\n",
    "    song_ID_counter = 1\n",
    "\n",
    "    checkpoints = np.arange(0,len(song_urls_df[song_urls_df[3]>10]),1000)\n",
    "\n",
    "    # For each song\n",
    "    for song in song_urls_df.values: \n",
    "        if song[3]>=10: # If song has 10 or more comments\n",
    "\n",
    "            # Scrape song page\n",
    "            page = requests.get('http:'+song[2])\n",
    "            soup = BeautifulSoup(page.text, 'lxml')\n",
    "\n",
    "            # Lyrics\n",
    "            lyrics_box = soup.find('div', {'class': \"holder lyric-box\"})\n",
    "            lyrics = strip_header_literals(extract_str(lyrics_box))\n",
    "            # Save song lyrics (song ID, artist, song name, lyrics)\n",
    "            song_lyrics.append([song_ID_counter, song[0],song[1],lyrics])\n",
    "\n",
    "            # Comments\n",
    "            raw_comments = soup.find('ul', {'class': \"comments-list\"})\n",
    "            comments = []\n",
    "            if raw_comments is not None: \n",
    "                for raw_comment_count, raw_comment in enumerate(raw_comments.find_all('li')):\n",
    "                    if raw_comment_count % 2 == 0: # skip odd items, which are replies to comments\n",
    "                        comments.append(strip_header_literals(extract_str((raw_comment.find('div', {'class':'text'})))))\n",
    "                # Save song comments (song ID, artist, song name, comment)\n",
    "                for comment in comments:\n",
    "                    song_comments.append([song_ID_counter, song[0],song[1],comment])\n",
    "\n",
    "            # Increase song ID counter\n",
    "            song_ID_counter += 1\n",
    "\n",
    "            # Save at checkpoint\n",
    "            if song_ID_counter in checkpoints:\n",
    "                song_lyrics_df = pd.DataFrame(song_lyrics)\n",
    "                song_lyrics_df.to_csv('song_lyrics.csv', index=False, header=False)\n",
    "\n",
    "                song_comments_df = pd.DataFrame(song_comments)\n",
    "                song_comments_df.to_csv('song_comments.csv', index=False, header=False)\n",
    "\n",
    "            # Update progress\n",
    "            print ('Scraping ARTIST: '+song[0]+', SONG: '+song[1])\n",
    "            clear_output(wait=True)\n",
    "            sleep(1)\n",
    "\n",
    "    song_lyrics_df = pd.DataFrame(song_lyrics)\n",
    "    song_lyrics_df.to_csv('song_lyrics.csv', index=False, header=False)\n",
    "\n",
    "    song_comments_df = pd.DataFrame(song_comments)\n",
    "    song_comments_df.to_csv('song_comments.csv', index=False, header=False)\n",
    "else: \n",
    "    song_lyrics_df = pd.read_csv('song_lyrics.csv', header = None)\n",
    "    song_comments_df = pd.read_csv('song_comments.csv', header = None)"
   ]
  },
  {
   "cell_type": "markdown",
   "metadata": {},
   "source": [
    "#### Lyrics"
   ]
  },
  {
   "cell_type": "code",
   "execution_count": 12,
   "metadata": {
    "scrolled": false
   },
   "outputs": [
    {
     "data": {
      "text/html": [
       "<div>\n",
       "<style scoped>\n",
       "    .dataframe tbody tr th:only-of-type {\n",
       "        vertical-align: middle;\n",
       "    }\n",
       "\n",
       "    .dataframe tbody tr th {\n",
       "        vertical-align: top;\n",
       "    }\n",
       "\n",
       "    .dataframe thead th {\n",
       "        text-align: right;\n",
       "    }\n",
       "</style>\n",
       "<table border=\"1\" class=\"dataframe\">\n",
       "  <thead>\n",
       "    <tr style=\"text-align: right;\">\n",
       "      <th></th>\n",
       "      <th>ID</th>\n",
       "      <th>Artist</th>\n",
       "      <th>Song</th>\n",
       "      <th>Lyrics</th>\n",
       "      <th>Length</th>\n",
       "    </tr>\n",
       "  </thead>\n",
       "  <tbody>\n",
       "    <tr>\n",
       "      <th>0</th>\n",
       "      <td>1</td>\n",
       "      <td>A</td>\n",
       "      <td>Starbucks</td>\n",
       "      <td>She's silver rich, I cannot take no more yeah ...</td>\n",
       "      <td>1799</td>\n",
       "    </tr>\n",
       "    <tr>\n",
       "      <th>1</th>\n",
       "      <td>2</td>\n",
       "      <td>A Black Rose Burial</td>\n",
       "      <td>A Baleful Aura In The Graveyard Of Broken Gears</td>\n",
       "      <td>far beyond appolyons lair  \\r\\r\\nacross the se...</td>\n",
       "      <td>1572</td>\n",
       "    </tr>\n",
       "    <tr>\n",
       "      <th>2</th>\n",
       "      <td>3</td>\n",
       "      <td>A Change of Pace</td>\n",
       "      <td>A Farewell to a Friendship</td>\n",
       "      <td>In a dream \\r\\nIn a place \\r\\nWhere the far re...</td>\n",
       "      <td>1376</td>\n",
       "    </tr>\n",
       "    <tr>\n",
       "      <th>3</th>\n",
       "      <td>4</td>\n",
       "      <td>A Change of Pace</td>\n",
       "      <td>Loose Lips Sink Ships</td>\n",
       "      <td>So I made you lie! \\r\\n \\r\\nAnd we both hope \\...</td>\n",
       "      <td>1146</td>\n",
       "    </tr>\n",
       "    <tr>\n",
       "      <th>4</th>\n",
       "      <td>5</td>\n",
       "      <td>A Change of Pace</td>\n",
       "      <td>Shoot From The Hip</td>\n",
       "      <td>Picture perfect turned to worthless \\r\\nBitter...</td>\n",
       "      <td>1611</td>\n",
       "    </tr>\n",
       "  </tbody>\n",
       "</table>\n",
       "</div>"
      ],
      "text/plain": [
       "   ID               Artist                                             Song  \\\n",
       "0   1                    A                                        Starbucks   \n",
       "1   2  A Black Rose Burial  A Baleful Aura In The Graveyard Of Broken Gears   \n",
       "2   3     A Change of Pace                       A Farewell to a Friendship   \n",
       "3   4     A Change of Pace                            Loose Lips Sink Ships   \n",
       "4   5     A Change of Pace                               Shoot From The Hip   \n",
       "\n",
       "                                              Lyrics  Length  \n",
       "0  She's silver rich, I cannot take no more yeah ...    1799  \n",
       "1  far beyond appolyons lair  \\r\\r\\nacross the se...    1572  \n",
       "2  In a dream \\r\\nIn a place \\r\\nWhere the far re...    1376  \n",
       "3  So I made you lie! \\r\\n \\r\\nAnd we both hope \\...    1146  \n",
       "4  Picture perfect turned to worthless \\r\\nBitter...    1611  "
      ]
     },
     "execution_count": 12,
     "metadata": {},
     "output_type": "execute_result"
    }
   ],
   "source": [
    "song_lyrics_df.columns = ['ID','Artist','Song','Lyrics']\n",
    "song_lyrics_df['Length'] = song_lyrics_df['Lyrics'].apply(lambda x: len(str(x)))\n",
    "song_lyrics_df.head()"
   ]
  },
  {
   "cell_type": "code",
   "execution_count": 13,
   "metadata": {},
   "outputs": [
    {
     "data": {
      "image/png": "[encoded data removed]",
      "text/plain": [
       "<matplotlib.figure.Figure at 0x1b9fd46eef0>"
      ]
     },
     "metadata": {},
     "output_type": "display_data"
    }
   ],
   "source": [
    "plt.hist(song_lyrics_df['Length'], 100)\n",
    "plt.xlabel('Lyric length (characters)')\n",
    "plt.ylabel('Count');"
   ]
  },
  {
   "cell_type": "markdown",
   "metadata": {},
   "source": [
    "#### Comments"
   ]
  },
  {
   "cell_type": "markdown",
   "metadata": {},
   "source": [
    "Comments are contributed by Songmeanings.com users and could vary greatly by length and the level of discussion/interpretation of song lyrics."
   ]
  },
  {
   "cell_type": "code",
   "execution_count": 14,
   "metadata": {
    "scrolled": false
   },
   "outputs": [
    {
     "data": {
      "text/html": [
       "<div>\n",
       "<style scoped>\n",
       "    .dataframe tbody tr th:only-of-type {\n",
       "        vertical-align: middle;\n",
       "    }\n",
       "\n",
       "    .dataframe tbody tr th {\n",
       "        vertical-align: top;\n",
       "    }\n",
       "\n",
       "    .dataframe thead th {\n",
       "        text-align: right;\n",
       "    }\n",
       "</style>\n",
       "<table border=\"1\" class=\"dataframe\">\n",
       "  <thead>\n",
       "    <tr style=\"text-align: right;\">\n",
       "      <th></th>\n",
       "      <th>ID</th>\n",
       "      <th>Artist</th>\n",
       "      <th>Song</th>\n",
       "      <th>Comment</th>\n",
       "      <th>Length</th>\n",
       "    </tr>\n",
       "  </thead>\n",
       "  <tbody>\n",
       "    <tr>\n",
       "      <th>0</th>\n",
       "      <td>1</td>\n",
       "      <td>A</td>\n",
       "      <td>Starbucks</td>\n",
       "      <td>this song is cool.....xxxxxx\\r\\n \\r\\n \\r\\n</td>\n",
       "      <td>37</td>\n",
       "    </tr>\n",
       "    <tr>\n",
       "      <th>1</th>\n",
       "      <td>1</td>\n",
       "      <td>A</td>\n",
       "      <td>Starbucks</td>\n",
       "      <td>this song rules, so does thier albums. go A!!...</td>\n",
       "      <td>58</td>\n",
       "    </tr>\n",
       "    <tr>\n",
       "      <th>2</th>\n",
       "      <td>1</td>\n",
       "      <td>A</td>\n",
       "      <td>Starbucks</td>\n",
       "      <td>I love it, but itd be nice if sum1 got the ly...</td>\n",
       "      <td>65</td>\n",
       "    </tr>\n",
       "    <tr>\n",
       "      <th>3</th>\n",
       "      <td>1</td>\n",
       "      <td>A</td>\n",
       "      <td>Starbucks</td>\n",
       "      <td>any1 know what this song is about?\\r\\n \\r\\n \\r\\n</td>\n",
       "      <td>43</td>\n",
       "    </tr>\n",
       "    <tr>\n",
       "      <th>4</th>\n",
       "      <td>1</td>\n",
       "      <td>A</td>\n",
       "      <td>Starbucks</td>\n",
       "      <td>its about what would you rather do: be a rock...</td>\n",
       "      <td>81</td>\n",
       "    </tr>\n",
       "  </tbody>\n",
       "</table>\n",
       "</div>"
      ],
      "text/plain": [
       "   ID Artist       Song                                            Comment  \\\n",
       "0   1      A  Starbucks         this song is cool.....xxxxxx\\r\\n \\r\\n \\r\\n   \n",
       "1   1      A  Starbucks   this song rules, so does thier albums. go A!!...   \n",
       "2   1      A  Starbucks   I love it, but itd be nice if sum1 got the ly...   \n",
       "3   1      A  Starbucks   any1 know what this song is about?\\r\\n \\r\\n \\r\\n   \n",
       "4   1      A  Starbucks   its about what would you rather do: be a rock...   \n",
       "\n",
       "   Length  \n",
       "0      37  \n",
       "1      58  \n",
       "2      65  \n",
       "3      43  \n",
       "4      81  "
      ]
     },
     "execution_count": 14,
     "metadata": {},
     "output_type": "execute_result"
    }
   ],
   "source": [
    "song_comments_df.columns = ['ID','Artist','Song','Comment']\n",
    "song_comments_df['Length'] = song_comments_df['Comment'].apply(lambda x: len(str(x)))\n",
    "song_comments_df.head()"
   ]
  },
  {
   "cell_type": "code",
   "execution_count": 15,
   "metadata": {
    "scrolled": true
   },
   "outputs": [
    {
     "data": {
      "image/png": "[encoded data removed]",
      "text/plain": [
       "<matplotlib.figure.Figure at 0x1b98101c9b0>"
      ]
     },
     "metadata": {},
     "output_type": "display_data"
    }
   ],
   "source": [
    "plt.hist(song_comments_df['Length'], 1000)\n",
    "plt.xlabel('Comment length (characters)')\n",
    "plt.ylabel('Count');"
   ]
  },
  {
   "cell_type": "code",
   "execution_count": 16,
   "metadata": {
    "scrolled": true
   },
   "outputs": [
    {
     "data": {
      "image/png": "[encoded data removed]",
      "text/plain": [
       "<matplotlib.figure.Figure at 0x1b9814c7f28>"
      ]
     },
     "metadata": {},
     "output_type": "display_data"
    }
   ],
   "source": [
    "plt.hist(song_comments_df[song_comments_df['Length']<=1000]['Length'], 1000)\n",
    "plt.xlabel('Comment length (characters)')\n",
    "plt.xlim(0,1000)\n",
    "plt.ylabel('Count');"
   ]
  },
  {
   "cell_type": "markdown",
   "metadata": {},
   "source": [
    "## How do the contents of shorter vs. longer comments (by quartiles) differ?"
   ]
  },
  {
   "cell_type": "code",
   "execution_count": 17,
   "metadata": {},
   "outputs": [
    {
     "data": {
      "text/plain": [
       "count    375678.000000\n",
       "mean        356.830014\n",
       "std         578.471175\n",
       "min           2.000000\n",
       "25%          94.000000\n",
       "50%         190.000000\n",
       "75%         385.000000\n",
       "max       40003.000000\n",
       "Name: Length, dtype: float64"
      ]
     },
     "execution_count": 17,
     "metadata": {},
     "output_type": "execute_result"
    }
   ],
   "source": [
    "song_comments_df['Length'].describe()"
   ]
  },
  {
   "cell_type": "markdown",
   "metadata": {},
   "source": [
    "#### Comments with between 0 to 100 characters mostly lack discussion about song content"
   ]
  },
  {
   "cell_type": "code",
   "execution_count": 18,
   "metadata": {},
   "outputs": [],
   "source": [
    "def remove_linebreak(raw_str):\n",
    "    out = str(raw_str).replace('\\n','').replace('\\r','')\n",
    "    return out"
   ]
  },
  {
   "cell_type": "code",
   "execution_count": 19,
   "metadata": {
    "scrolled": false
   },
   "outputs": [
    {
     "name": "stdout",
     "output_type": "stream",
     "text": [
      " it makes me feel like dying but in a good way...... if any of u know what i mean  \n",
      "\n",
      " Everyone needs homies, they have your back no matter what,  \n",
      "\n",
      " i agree with u tainted , this was my 1st song i heard by them and its my fave song ;D  \n",
      "\n",
      " oh my...  :)  \n",
      "\n"
     ]
    }
   ],
   "source": [
    "for comment in song_comments_df[song_comments_df['Length']<=100]['Comment'].sample(4, random_state = 0):\n",
    "    print(remove_linebreak(comment)+'\\n')"
   ]
  },
  {
   "cell_type": "markdown",
   "metadata": {},
   "source": [
    "#### Comments with between 100 and 200 characters show some discussion about what the song is about"
   ]
  },
  {
   "cell_type": "code",
   "execution_count": 20,
   "metadata": {
    "scrolled": false
   },
   "outputs": [
    {
     "name": "stdout",
     "output_type": "stream",
     "text": [
      " this is about war!whether its between God and satan,or if its between to colliding men.........  \n",
      "\n",
      " what cd is this one on?  i thought i'd heard all the metric songs, guess not! it looks good though.  \n",
      "\n",
      " i think this song is about two people who love each other no matter how low they are in society. Its sayin that they will love each other no matter what.  \n",
      "\n",
      " I always thought he was saying \"It's a corn beef sky\" instead of \"orangey sky\" hahaha. Anyway, just bought this on vinyl, it's a great album and song.   \n",
      "\n"
     ]
    }
   ],
   "source": [
    "for comment in song_comments_df[(song_comments_df['Length']>100) & \n",
    "                                (song_comments_df['Length']<=200)]['Comment'].sample(4, random_state = 42):\n",
    "    print(remove_linebreak(comment)+'\\n')"
   ]
  },
  {
   "cell_type": "markdown",
   "metadata": {},
   "source": [
    "#### Comments with between 200 and 400 characters contain more detailed descriptions of songs, sometimes quotes song lyrics"
   ]
  },
  {
   "cell_type": "code",
   "execution_count": 21,
   "metadata": {
    "scrolled": false
   },
   "outputs": [
    {
     "name": "stdout",
     "output_type": "stream",
     "text": [
      " Yeah.  Not only is he trying to tell kids to be better people, I felt he was also trying to shy them away from the evils of the music industry and the artists and images that promote those evils.  \n",
      "\n",
      " Even though iÂ´m not a Miley Cyrus neither a Jonas brother fan  I think this song is excellent and one of their best songs.  They sound great together.  This song is very powerful and meaningful. It is about their break up, but now they are back together  iÂ´m happy for them they are great together.  \n",
      "\n",
      " I totally agree with you, this song is very powerful. I love the subliminal sounds, like: don't go and leave me sounds like don't \"god\" leave me...   My favorite line is also your eyes forever glued to mine, it's standing in my msn nick at the moment :).  I trully believe this song is one of placebo's best work ever. Can't wait to see the video on this one...  \n",
      "\n",
      " Its kind of funny to me, my interpretation may be different from the majority, but I think its pretty dark. To me its a man infested with demons, schizophrenic possibly, and he and his significant other commit suicide. But he is commensurating with the voices in his head to convince her to die with him. Its a very pretty song, but has a dark meaning.  \n",
      "\n"
     ]
    }
   ],
   "source": [
    "for comment in song_comments_df[(song_comments_df['Length']>200) & \n",
    "                                (song_comments_df['Length']<=400)]['Comment'].sample(4, random_state = 0):\n",
    "    print(remove_linebreak(comment)+'\\n')"
   ]
  },
  {
   "cell_type": "markdown",
   "metadata": {},
   "source": [
    "#### Comments with between 400 and 4000 characters cotain a high level of detailed specifics"
   ]
  },
  {
   "cell_type": "code",
   "execution_count": 22,
   "metadata": {
    "scrolled": false
   },
   "outputs": [
    {
     "name": "stdout",
     "output_type": "stream",
     "text": [
      " I don't think this song is about assisted suicide.  I think the song is about Judas's struggles after betraying Jesus.  \"To convalesce from empty sorrow, someone had to squeal\" - Jesus needed to die and Judas was the one who had to betray Him.  \"You said \"I know.\" I know it's not your fault\" - Jesus basically tells Judas that He knows that Judas has betrayed Him and tells him to go do it. (Matthew 26)   \"How much were you paid to sell out the madman?\" - Judas sold Jesus to the Sanhedrin for 20 pieces of silver.  \"The innocent will rest in the peace they've been given\" - Judas muses that the innocent will find peace (salvation) which Jesus gives to us as a gift.  The song seems to be a lot of Judas dealing with his betrayal of Jesus and how he can't handle it anymore.  This is by no means the only way to interpret it, but it think that is is at least somewhat the meaning that Haste the Day was going for.  \n",
      "\n",
      " this is disenchanted:  Well I was there on the day They sold the cause for the queen, And when the lights all went out We watched our lives on the screen. I hate the ending myself,  But it started with an alright scene.  It was the roar of the crowd That gave me heartache to sing. It was a lie when they smiled And said, \"you won't feel a thing\" And as we ran from the cops We laughed so hard it would sting  Yeah yeah, oh oh oh oh  If I'm so wrong (so wrong, so wrong) How can you listen all night long? (night long, night long) Now will it matter after I'm gone? Because you never learned a god damned thing.  You're just a sad song with nothing to say  About a life long wait for a hospital stay Well if you think that I'm wrong,  This never meant nothing to you  I spent my high school career Spit on and shoved to agree So I can watch all my heroes Sell a car on tv Bring out the old guillotine  [ Lyrics found on   ]  We'll show 'em what we all mean.  Yeah yeah, oh  If I'm so wrong (so wrong, so wrong) How can you listen all night long? (night long, night long) Now will it matter long after I'm gone? Because you never learned a god damned thing.  You're just a sad song with nothing to say  About a life long wait for a hospital stay And if you think that I'm wrong,  This never meant nothing to you  So go away, just go, run away. But where did you run to? And where did you hide? Go find another way, price you pay  where oh ,where oh ,where oh,  where oh ,where oh ,where oh  It's just a sad song with nothing to say  About a life long wait for a hospital stay And if you think that I'm wrong,  This never meant nothing to you, come on  You're just a sad song with nothing to say  About a life long wait for a hospital stay Well if you think that I'm wrong,  This never meant nothing to you  At all, at all, at all , at all...  \n",
      "\n",
      " I've always felt like this song was talking about a person who got horribly hurt by someone, either mentally or physically, and only when they stepped back and really thought about everything did they see it. This, understandably, angered them a lot, especially once they saw the scars and pain left by the one who hurt them, and they're done just standing there and taking it. They have no sympathy for the person who hurt them, and too much damage has been done for apologies to mean anything, and now they're going to go give the person what they feel is coming to them, possibly murder, and grin while doing it.  \n",
      "\n",
      " Billy Liar is based upon, not the book, as some have stated, rather it is a ditty about the movie. The movie \"Billy Liar\", made in 1963 starred Tom Courtenay as 'Billy' Walter Mitty, and also starred Julie Christy as the female lead. Events in the life of a young Walter Mitty who escapes his humdrum life via daydreams is the basic premise of the movie. Colin was a big fan of the movie, and if you have ever seen it, you will know why. It has such a very Baroque, yet timeless feel to it. It encapsulated what, I feel the Decemberists at that time, were trying to purvay to themselves, as well as their flock.  \n",
      "\n"
     ]
    }
   ],
   "source": [
    "for comment in song_comments_df[song_comments_df['Length']>400]['Comment'].sample(4, random_state = 0):\n",
    "    print(remove_linebreak(comment)+'\\n')"
   ]
  },
  {
   "cell_type": "markdown",
   "metadata": {},
   "source": [
    "---\n",
    "We can grade the quality of each comment by which of these quartiles they fall into. Later, we can choose to exclude the lowest quartile comments from text analysis or change the weight of lower quality comments if needed."
   ]
  },
  {
   "cell_type": "code",
   "execution_count": 23,
   "metadata": {
    "scrolled": true
   },
   "outputs": [
    {
     "data": {
      "text/html": [
       "<div>\n",
       "<style scoped>\n",
       "    .dataframe tbody tr th:only-of-type {\n",
       "        vertical-align: middle;\n",
       "    }\n",
       "\n",
       "    .dataframe tbody tr th {\n",
       "        vertical-align: top;\n",
       "    }\n",
       "\n",
       "    .dataframe thead th {\n",
       "        text-align: right;\n",
       "    }\n",
       "</style>\n",
       "<table border=\"1\" class=\"dataframe\">\n",
       "  <thead>\n",
       "    <tr style=\"text-align: right;\">\n",
       "      <th></th>\n",
       "      <th>ID</th>\n",
       "      <th>Artist</th>\n",
       "      <th>Song</th>\n",
       "      <th>Comment</th>\n",
       "      <th>Length</th>\n",
       "      <th>Length_grade</th>\n",
       "    </tr>\n",
       "  </thead>\n",
       "  <tbody>\n",
       "    <tr>\n",
       "      <th>319059</th>\n",
       "      <td>31978</td>\n",
       "      <td>Spandau Ballet</td>\n",
       "      <td>Gold</td>\n",
       "      <td>Well, clearly the song is about a mad scienti...</td>\n",
       "      <td>1357</td>\n",
       "      <td>4</td>\n",
       "    </tr>\n",
       "    <tr>\n",
       "      <th>260966</th>\n",
       "      <td>26150</td>\n",
       "      <td>Pedro the Lion</td>\n",
       "      <td>Promise</td>\n",
       "      <td>A friend wanted me to listen to Pedro the Lio...</td>\n",
       "      <td>370</td>\n",
       "      <td>3</td>\n",
       "    </tr>\n",
       "    <tr>\n",
       "      <th>198409</th>\n",
       "      <td>19880</td>\n",
       "      <td>Live</td>\n",
       "      <td>Iris</td>\n",
       "      <td>i think this song is about a guy who has had ...</td>\n",
       "      <td>660</td>\n",
       "      <td>4</td>\n",
       "    </tr>\n",
       "    <tr>\n",
       "      <th>108747</th>\n",
       "      <td>10898</td>\n",
       "      <td>Eighteen Visions</td>\n",
       "      <td>She's A Movie Produced Masterpiece</td>\n",
       "      <td>this song rocks my world, almost as much as m...</td>\n",
       "      <td>73</td>\n",
       "      <td>1</td>\n",
       "    </tr>\n",
       "    <tr>\n",
       "      <th>373296</th>\n",
       "      <td>37410</td>\n",
       "      <td>The 1975</td>\n",
       "      <td>Robbers</td>\n",
       "      <td>This song is about being attached to a lover ...</td>\n",
       "      <td>248</td>\n",
       "      <td>3</td>\n",
       "    </tr>\n",
       "  </tbody>\n",
       "</table>\n",
       "</div>"
      ],
      "text/plain": [
       "           ID            Artist                                Song  \\\n",
       "319059  31978    Spandau Ballet                                Gold   \n",
       "260966  26150    Pedro the Lion                             Promise   \n",
       "198409  19880              Live                                Iris   \n",
       "108747  10898  Eighteen Visions  She's A Movie Produced Masterpiece   \n",
       "373296  37410          The 1975                             Robbers   \n",
       "\n",
       "                                                  Comment  Length  \\\n",
       "319059   Well, clearly the song is about a mad scienti...    1357   \n",
       "260966   A friend wanted me to listen to Pedro the Lio...     370   \n",
       "198409   i think this song is about a guy who has had ...     660   \n",
       "108747   this song rocks my world, almost as much as m...      73   \n",
       "373296   This song is about being attached to a lover ...     248   \n",
       "\n",
       "        Length_grade  \n",
       "319059             4  \n",
       "260966             3  \n",
       "198409             4  \n",
       "108747             1  \n",
       "373296             3  "
      ]
     },
     "execution_count": 23,
     "metadata": {},
     "output_type": "execute_result"
    }
   ],
   "source": [
    "def length_grade(comment_length):\n",
    "    if comment_length<=100:\n",
    "        return 1\n",
    "    if (comment_length>100) & (comment_length<=200):\n",
    "        return 2\n",
    "    if (comment_length>200) & (comment_length<=400):\n",
    "        return 3\n",
    "    if comment_length>400:\n",
    "        return 4\n",
    "\n",
    "song_comments_df['Length_grade'] = song_comments_df['Length'].apply(lambda x: length_grade(x))\n",
    "song_comments_df.sample(5, random_state = 0)"
   ]
  },
  {
   "cell_type": "code",
   "execution_count": null,
   "metadata": {},
   "outputs": [],
   "source": []
  }
 ],
 "metadata": {
  "kernelspec": {
   "display_name": "Python 3",
   "language": "python",
   "name": "python3"
  },
  "language_info": {
   "codemirror_mode": {
    "name": "ipython",
    "version": 3
   },
   "file_extension": ".py",
   "mimetype": "text/x-python",
   "name": "python",
   "nbconvert_exporter": "python",
   "pygments_lexer": "ipython3",
   "version": "3.6.4"
  }
 },
 "nbformat": 4,
 "nbformat_minor": 2
}
